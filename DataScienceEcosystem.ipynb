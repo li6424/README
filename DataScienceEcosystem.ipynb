{
 "cells": [
  {
   "cell_type": "markdown",
   "id": "fa9d88df",
   "metadata": {},
   "source": [
    "<H1> Data Science Tools and Ecosystem <H1>"
   ]
  },
  {
   "cell_type": "markdown",
   "id": "f51c2f74",
   "metadata": {},
   "source": [
    "#In this notebook, Data Science Tools and Ecosystem are summarized."
   ]
  },
  {
   "cell_type": "markdown",
   "id": "5e99bae5",
   "metadata": {},
   "source": [
    "#Exercise 4 - Create a markdown cell to list data science languages\n",
    "1. Python:\n",
    "2. R\n",
    "3. SQL"
   ]
  },
  {
   "cell_type": "markdown",
   "id": "95b5c67c",
   "metadata": {},
   "source": [
    "#Exercise 5 - Create a markdown cell to list data science libraries\n",
    "1. NumPy\n",
    "2. Pandas\n",
    "3. Matplotlib\n"
   ]
  },
  {
   "cell_type": "markdown",
   "id": "7279899c",
   "metadata": {},
   "source": [
    "#Exercise 6 - Create a markdown cell with a table of Data Science tools\n",
    "| Data Science Tools |\n",
    "|--------------------|\n",
    "| Jupyter notebooks  |\n",
    "| Rstudio            |\n",
    "| VSCode             |"
   ]
  },
  {
   "cell_type": "code",
   "execution_count": 13,
   "id": "9b626fdd",
   "metadata": {},
   "outputs": [
    {
     "name": "stdout",
     "output_type": "stream",
     "text": [
      "14\n"
     ]
    }
   ],
   "source": [
    "#Exercise 7 - Create a markdown cell introducing arithmetic expression examples\n",
    "result_addition = 10+4\n",
    "print (result_addition)"
   ]
  },
  {
   "cell_type": "code",
   "execution_count": 14,
   "id": "01bf187f",
   "metadata": {},
   "outputs": [
    {
     "name": "stdout",
     "output_type": "stream",
     "text": [
      "40\n"
     ]
    }
   ],
   "source": [
    "result_multi = 10*4\n",
    "print (result_multi)"
   ]
  },
  {
   "cell_type": "code",
   "execution_count": 16,
   "id": "8f142290",
   "metadata": {},
   "outputs": [
    {
     "name": "stdout",
     "output_type": "stream",
     "text": [
      "17\n"
     ]
    }
   ],
   "source": [
    "#Exercise 8 - Create a code cell to multiply and add numbers\n",
    "result_multi_add= (3*4)+5\n",
    "print (result_multi_add)"
   ]
  },
  {
   "cell_type": "code",
   "execution_count": 17,
   "id": "551c35ad",
   "metadata": {},
   "outputs": [
    {
     "name": "stdout",
     "output_type": "stream",
     "text": [
      "3.3333333333333335\n"
     ]
    }
   ],
   "source": [
    "#Exercise 10 - Insert a markdown cell to list Objectives\n",
    "minutes = 200\n",
    "hours = 200/60\n",
    "print (hours)\n"
   ]
  },
  {
   "cell_type": "markdown",
   "id": "bb0050e5",
   "metadata": {},
   "source": [
    "#Exercise 9 - Create a code cell to convert minutes to hours\n",
    "\n",
    "**objectives**\n",
    "- explore popular lgangues\n",
    "- identify commonly ued librairies in data sciences\n",
    "- understand basic arithmetic expressions\n"
   ]
  },
  {
   "cell_type": "markdown",
   "id": "7cf58e3f",
   "metadata": {},
   "source": [
    "#Exercise 11 - Create a markdown cell to indicate the Author's name\n",
    "## Author\n",
    "LI ZHOU"
   ]
  },
  {
   "cell_type": "code",
   "execution_count": null,
   "id": "cba2aec8",
   "metadata": {},
   "outputs": [],
   "source": []
  }
 ],
 "metadata": {
  "kernelspec": {
   "display_name": "Python 3 (ipykernel)",
   "language": "python",
   "name": "python3"
  },
  "language_info": {
   "codemirror_mode": {
    "name": "ipython",
    "version": 3
   },
   "file_extension": ".py",
   "mimetype": "text/x-python",
   "name": "python",
   "nbconvert_exporter": "python",
   "pygments_lexer": "ipython3",
   "version": "3.11.5"
  }
 },
 "nbformat": 4,
 "nbformat_minor": 5
}
